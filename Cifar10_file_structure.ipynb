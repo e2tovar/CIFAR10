{
  "nbformat": 4,
  "nbformat_minor": 0,
  "metadata": {
    "colab": {
      "name": "Cifar-10 con estructura de datos",
      "provenance": [],
      "collapsed_sections": []
    },
    "kernelspec": {
      "name": "python3",
      "display_name": "Python 3"
    },
    "accelerator": "GPU"
  },
  "cells": [
    {
      "source": [
        "## Mini Kaggle Competition, The Bridge\n",
        "Team: Eddy, Olga, Frank\n",
        "\n",
        "Creating files structure\n",
        "\n",
        "Final accuracy: 83,54%"
      ],
      "cell_type": "markdown",
      "metadata": {}
    },
    {
      "cell_type": "code",
      "metadata": {
        "id": "KGyMj4oUoMd3"
      },
      "source": [
        "import keras\n",
        "import numpy as np\n",
        "import os, shutil\n",
        "import pandas as pd\n",
        "\n",
        "#TRansfer Learning\n",
        "from keras.applications import VGG16\n",
        "#modeling\n",
        "from keras.models import Sequential\n",
        "from keras.layers import Flatten\n",
        "from keras import models\n",
        "from keras import layers\n",
        "from keras import optimizers"
      ],
      "execution_count": 1,
      "outputs": []
    },
    {
      "cell_type": "code",
      "metadata": {
        "id": "TwGMNH58oUSj",
        "outputId": "6c929667-e9dd-4c3f-f6cd-ae85a58792e7",
        "colab": {
          "base_uri": "https://localhost:8080/",
          "height": 437
        }
      },
      "source": [
        "#installing libraries\n",
        "!pip install --upgrade --force-reinstall --no-deps kaggle\n",
        "!pip install py7zr"
      ],
      "execution_count": 2,
      "outputs": [
        {
          "output_type": "stream",
          "text": [
            "Collecting kaggle\n",
            "\u001b[?25l  Downloading https://files.pythonhosted.org/packages/fc/14/9db40d8d6230655e76fa12166006f952da4697c003610022683c514cf15f/kaggle-1.5.8.tar.gz (59kB)\n",
            "\r\u001b[K     |█████▌                          | 10kB 25.0MB/s eta 0:00:01\r\u001b[K     |███████████                     | 20kB 3.2MB/s eta 0:00:01\r\u001b[K     |████████████████▋               | 30kB 4.2MB/s eta 0:00:01\r\u001b[K     |██████████████████████▏         | 40kB 4.6MB/s eta 0:00:01\r\u001b[K     |███████████████████████████▊    | 51kB 3.7MB/s eta 0:00:01\r\u001b[K     |████████████████████████████████| 61kB 3.0MB/s \n",
            "\u001b[?25hBuilding wheels for collected packages: kaggle\n",
            "  Building wheel for kaggle (setup.py) ... \u001b[?25l\u001b[?25hdone\n",
            "  Created wheel for kaggle: filename=kaggle-1.5.8-cp36-none-any.whl size=73275 sha256=43b31da27a7bf5c2d2e367840c4b3fdb9611d56f962eafdb6f58fda649866e4e\n",
            "  Stored in directory: /root/.cache/pip/wheels/94/a7/09/68dc83c7c14fdbdf5d3f2b2da5b87e587bfc1e85df69b1130c\n",
            "Successfully built kaggle\n",
            "Installing collected packages: kaggle\n",
            "  Found existing installation: kaggle 1.5.8\n",
            "    Uninstalling kaggle-1.5.8:\n",
            "      Successfully uninstalled kaggle-1.5.8\n",
            "Successfully installed kaggle-1.5.8\n",
            "Collecting py7zr\n",
            "\u001b[?25l  Downloading https://files.pythonhosted.org/packages/b5/e2/dee90a70611652ed956268c96165d459fe7bef5e980a3f9527fcfc0d8069/py7zr-0.9.7-py3-none-any.whl (65kB)\n",
            "\u001b[K     |████████████████████████████████| 71kB 3.3MB/s \n",
            "\u001b[?25hCollecting texttable\n",
            "  Downloading https://files.pythonhosted.org/packages/06/f5/46201c428aebe0eecfa83df66bf3e6caa29659dbac5a56ddfd83cae0d4a4/texttable-1.6.3-py2.py3-none-any.whl\n",
            "Requirement already satisfied: importlib-metadata; python_version < \"3.8\" in /usr/local/lib/python3.6/dist-packages (from py7zr) (1.7.0)\n",
            "Collecting pycryptodome\n",
            "\u001b[?25l  Downloading https://files.pythonhosted.org/packages/17/55/17fa0b55849dc135f7bc400993a9206bf06d1b5d9520b0bc8d47c57aaef5/pycryptodome-3.9.8-cp36-cp36m-manylinux1_x86_64.whl (13.7MB)\n",
            "\u001b[K     |████████████████████████████████| 13.7MB 234kB/s \n",
            "\u001b[?25hRequirement already satisfied: zipp>=0.5 in /usr/local/lib/python3.6/dist-packages (from importlib-metadata; python_version < \"3.8\"->py7zr) (3.1.0)\n",
            "Installing collected packages: texttable, pycryptodome, py7zr\n",
            "Successfully installed py7zr-0.9.7 pycryptodome-3.9.8 texttable-1.6.3\n"
          ],
          "name": "stdout"
        }
      ]
    },
    {
      "cell_type": "code",
      "metadata": {
        "id": "kc6DsVDhojJF",
        "outputId": "76c57b1f-99da-4604-90fc-26b34469243d",
        "colab": {
          "resources": {
            "http://localhost:8080/nbextensions/google.colab/files.js": {
              "data": "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",
              "ok": true,
              "headers": [
                [
                  "content-type",
                  "application/javascript"
                ]
              ],
              "status": 200,
              "status_text": ""
            }
          },
          "base_uri": "https://localhost:8080/",
          "height": 90
        }
      },
      "source": [
        "#Uploading kaggle.json\n",
        "from google.colab import files\n",
        "\n",
        "uploaded = files.upload()\n",
        "\n",
        "for fn in uploaded.keys():\n",
        "  print('User uploaded file \"{name}\" with length {length} bytes'.format(\n",
        "      name=fn, length=len(uploaded[fn])))"
      ],
      "execution_count": 3,
      "outputs": [
        {
          "output_type": "display_data",
          "data": {
            "text/html": [
              "\n",
              "     <input type=\"file\" id=\"files-ba408807-971f-4291-b2dc-810116ed6ddf\" name=\"files[]\" multiple disabled\n",
              "        style=\"border:none\" />\n",
              "     <output id=\"result-ba408807-971f-4291-b2dc-810116ed6ddf\">\n",
              "      Upload widget is only available when the cell has been executed in the\n",
              "      current browser session. Please rerun this cell to enable.\n",
              "      </output>\n",
              "      <script src=\"/nbextensions/google.colab/files.js\"></script> "
            ],
            "text/plain": [
              "<IPython.core.display.HTML object>"
            ]
          },
          "metadata": {
            "tags": []
          }
        },
        {
          "output_type": "stream",
          "text": [
            "Saving kaggle.json to kaggle.json\n",
            "User uploaded file \"kaggle.json\" with length 65 bytes\n"
          ],
          "name": "stdout"
        }
      ]
    },
    {
      "cell_type": "code",
      "metadata": {
        "id": "S96W3-O_orVl"
      },
      "source": [
        "#creating path\n",
        "!mkdir $HOME/.kaggle\n",
        "!mv kaggle.json $HOME/.kaggle/kaggle.json\n",
        "!chmod 600 $HOME/.kaggle/kaggle.json"
      ],
      "execution_count": 4,
      "outputs": []
    },
    {
      "cell_type": "code",
      "metadata": {
        "id": "SSrhzK3xo2Wa",
        "outputId": "08e3d647-ed28-4919-9965-33a5f30250fc",
        "colab": {
          "base_uri": "https://localhost:8080/",
          "height": 67
        }
      },
      "source": [
        "#downloading data from Kaggle\n",
        "!kaggle competitions download -c cifar-10 --force"
      ],
      "execution_count": 5,
      "outputs": [
        {
          "output_type": "stream",
          "text": [
            "Downloading cifar-10.zip to /content\n",
            " 97% 697M/715M [00:16<00:00, 22.0MB/s]\n",
            "100% 715M/715M [00:16<00:00, 46.3MB/s]\n"
          ],
          "name": "stdout"
        }
      ]
    },
    {
      "cell_type": "code",
      "metadata": {
        "id": "-8ywAa9RrZVO",
        "outputId": "241874c2-2666-4701-dc09-5ee28742aac1",
        "colab": {
          "base_uri": "https://localhost:8080/",
          "height": 50
        }
      },
      "source": [
        "#Unzip files\n",
        "!unzip -qq /content/cifar-10.zip -d /content/cifar10\n",
        "print(\"root -->\", os.listdir())\n",
        "print(\"cifar10 --> \", os.listdir(\"cifar10\"))"
      ],
      "execution_count": 6,
      "outputs": [
        {
          "output_type": "stream",
          "text": [
            "root --> ['.config', 'cifar10', 'cifar-10.zip', 'sample_data']\n",
            "cifar10 -->  ['test.7z', 'train.7z', 'trainLabels.csv', 'sampleSubmission.csv']\n"
          ],
          "name": "stdout"
        }
      ]
    },
    {
      "cell_type": "code",
      "metadata": {
        "id": "HqcjTxkyKCoV",
        "outputId": "56db2738-b440-4d2b-8238-a48ac47306db",
        "colab": {
          "base_uri": "https://localhost:8080/",
          "height": 70
        }
      },
      "source": [
        "# The path to the directory where the original zip files are\n",
        "zip_data = 'cifar10/train.7z'\n",
        "#zip_test = 'cifar10/test.7z'\n",
        "\n",
        "#train\n",
        "from py7zr import SevenZipFile\n",
        "with SevenZipFile(zip_data, 'r') as myzip:\n",
        "  print(\"data len --> {}\".format(len(myzip.getnames())-1))\n",
        "  print(\"train names --> {}\".format(myzip.getnames()[0:10]))"
      ],
      "execution_count": 7,
      "outputs": [
        {
          "output_type": "stream",
          "text": [
            "data len --> 50000\n",
            "train names --> ['train/1.png', 'train/10.png', 'train/100.png', 'train/1000.png', 'train/10000.png', 'train/10001.png', 'train/10002.png', 'train/10003.png', 'train/10004.png', 'train/10005.png']\n"
          ],
          "name": "stdout"
        }
      ]
    },
    {
      "cell_type": "code",
      "metadata": {
        "id": "Fv11zf1_SpQK",
        "outputId": "40bf410e-1db5-44d3-f936-92db98c05d5b",
        "colab": {
          "base_uri": "https://localhost:8080/",
          "height": 34
        }
      },
      "source": [
        "#Extract train Data Set\n",
        "with SevenZipFile(zip_data, 'r') as myzip:\n",
        "  myzip.extractall('origin_data')\n",
        "print(\"images count\", len(os.listdir('origin_data/train')))"
      ],
      "execution_count": 8,
      "outputs": [
        {
          "output_type": "stream",
          "text": [
            "images count 50000\n"
          ],
          "name": "stdout"
        }
      ]
    },
    {
      "cell_type": "markdown",
      "metadata": {
        "id": "cqSE8qmatAYR"
      },
      "source": [
        "# Creating Files Structure"
      ]
    },
    {
      "cell_type": "code",
      "metadata": {
        "id": "vtliZ6oitDqz",
        "outputId": "30c62e56-928f-4f44-8ada-b990da9cf73f",
        "colab": {
          "base_uri": "https://localhost:8080/",
          "height": 50
        }
      },
      "source": [
        "#Unlabelled data\n",
        "unlab_data = 'origin_data/train'\n",
        "\n",
        "# The directory where we will store our labeled dataset\n",
        "base_dir = '/content/data_to_process'\n",
        "if not os.path.exists(base_dir):\n",
        "    os.mkdir(base_dir)\n",
        "\n",
        "# Directories for our training and test splits.\n",
        "train_dir = os.path.join(base_dir, 'train')\n",
        "if not os.path.exists(train_dir):\n",
        "    os.mkdir(train_dir)\n",
        "\n",
        "test_dir = os.path.join(base_dir, 'test')\n",
        "if not os.path.exists(test_dir):\n",
        "    os.mkdir(test_dir)\n",
        "\n",
        "\n",
        "#Create classes folders\n",
        "labels = ['airplane', 'automobile', 'bird', 'cat', 'deer', 'dog', 'frog', 'horse', 'ship', 'truck']\n",
        "dir = [train_dir, test_dir]\n",
        "for d in dir:\n",
        "  for l in labels:\n",
        "    if not os.path.exists(os.path.join(d, l)):\n",
        "      os.mkdir(os.path.join(d, l))\n",
        "\n",
        "print('label_data -->', os.listdir('data_to_process'))\n",
        "print('clases -->', os.listdir('data_to_process/test'))"
      ],
      "execution_count": 9,
      "outputs": [
        {
          "output_type": "stream",
          "text": [
            "label_data --> ['train', 'test']\n",
            "clases --> ['deer', 'dog', 'truck', 'automobile', 'horse', 'frog', 'ship', 'cat', 'bird', 'airplane']\n"
          ],
          "name": "stdout"
        }
      ]
    },
    {
      "cell_type": "code",
      "metadata": {
        "id": "ek-AiLDGBS-c",
        "outputId": "5ec9261b-c91e-4619-a73d-90cb74a68ee6",
        "colab": {
          "base_uri": "https://localhost:8080/",
          "height": 212
        }
      },
      "source": [
        "#Leer labels csv\n",
        "labels_df = pd.read_csv('cifar10/trainLabels.csv')\n",
        "print(labels_df.shape)\n",
        "labels_df.head()"
      ],
      "execution_count": 10,
      "outputs": [
        {
          "output_type": "stream",
          "text": [
            "(50000, 2)\n"
          ],
          "name": "stdout"
        },
        {
          "output_type": "execute_result",
          "data": {
            "text/html": [
              "<div>\n",
              "<style scoped>\n",
              "    .dataframe tbody tr th:only-of-type {\n",
              "        vertical-align: middle;\n",
              "    }\n",
              "\n",
              "    .dataframe tbody tr th {\n",
              "        vertical-align: top;\n",
              "    }\n",
              "\n",
              "    .dataframe thead th {\n",
              "        text-align: right;\n",
              "    }\n",
              "</style>\n",
              "<table border=\"1\" class=\"dataframe\">\n",
              "  <thead>\n",
              "    <tr style=\"text-align: right;\">\n",
              "      <th></th>\n",
              "      <th>id</th>\n",
              "      <th>label</th>\n",
              "    </tr>\n",
              "  </thead>\n",
              "  <tbody>\n",
              "    <tr>\n",
              "      <th>0</th>\n",
              "      <td>1</td>\n",
              "      <td>frog</td>\n",
              "    </tr>\n",
              "    <tr>\n",
              "      <th>1</th>\n",
              "      <td>2</td>\n",
              "      <td>truck</td>\n",
              "    </tr>\n",
              "    <tr>\n",
              "      <th>2</th>\n",
              "      <td>3</td>\n",
              "      <td>truck</td>\n",
              "    </tr>\n",
              "    <tr>\n",
              "      <th>3</th>\n",
              "      <td>4</td>\n",
              "      <td>deer</td>\n",
              "    </tr>\n",
              "    <tr>\n",
              "      <th>4</th>\n",
              "      <td>5</td>\n",
              "      <td>automobile</td>\n",
              "    </tr>\n",
              "  </tbody>\n",
              "</table>\n",
              "</div>"
            ],
            "text/plain": [
              "   id       label\n",
              "0   1        frog\n",
              "1   2       truck\n",
              "2   3       truck\n",
              "3   4        deer\n",
              "4   5  automobile"
            ]
          },
          "metadata": {
            "tags": []
          },
          "execution_count": 10
        }
      ]
    },
    {
      "cell_type": "code",
      "metadata": {
        "id": "VjgO3jCWuz6g"
      },
      "source": [
        "#copy from origin data to train class labeled folders\n",
        "for id, label in zip(labels_df['id'], labels_df['label']):\n",
        "  fname = '{}.png'.format(id)\n",
        "  src = os.path.join(unlab_data, fname) #source \n",
        "  \n",
        "  file_dst = os.path.join(train_dir, label) \n",
        "  fname_final = label + '_{}'.format(fname)\n",
        "  dst = os.path.join(file_dst, fname_final) \n",
        "  \n",
        "  shutil.copyfile(src, dst) #move"
      ],
      "execution_count": 11,
      "outputs": []
    },
    {
      "cell_type": "code",
      "metadata": {
        "id": "ykB46nw6v0bd"
      },
      "source": [
        "#Copy 500 from each class to test folder\n",
        "for lab in labels_df.label.unique():\n",
        "  flist = os.listdir(os.path.join(train_dir, lab)) #list of img in labels\n",
        "  for fname in flist[0:500]:\n",
        "    src = os.path.join(train_dir, lab, fname) #source\n",
        "    file_dst = os.path.join(test_dir, lab)\n",
        "    dst = os.path.join(file_dst, fname) #dst\n",
        "    shutil.move(src, dst) #move\n",
        "  continue"
      ],
      "execution_count": 12,
      "outputs": []
    },
    {
      "cell_type": "code",
      "metadata": {
        "id": "I9r9CT0xZXrp",
        "outputId": "8f3afdd5-4ba2-42ad-e4aa-ac0d482cd683",
        "colab": {
          "base_uri": "https://localhost:8080/",
          "height": 403
        }
      },
      "source": [
        "print('***train***')\n",
        "for x in labels:\n",
        "    print(x, len(os.listdir(os.path.join(train_dir, x))))\n",
        "print('-----------------------------')\n",
        "print('***test***')\n",
        "for x in labels:\n",
        "    print(x, len(os.listdir(os.path.join(test_dir, x))))"
      ],
      "execution_count": 13,
      "outputs": [
        {
          "output_type": "stream",
          "text": [
            "***train***\n",
            "airplane 4500\n",
            "automobile 4500\n",
            "bird 4500\n",
            "cat 4500\n",
            "deer 4500\n",
            "dog 4500\n",
            "frog 4500\n",
            "horse 4500\n",
            "ship 4500\n",
            "truck 4500\n",
            "-----------------------------\n",
            "***test***\n",
            "airplane 500\n",
            "automobile 500\n",
            "bird 500\n",
            "cat 500\n",
            "deer 500\n",
            "dog 500\n",
            "frog 500\n",
            "horse 500\n",
            "ship 500\n",
            "truck 500\n"
          ],
          "name": "stdout"
        }
      ]
    },
    {
      "cell_type": "markdown",
      "metadata": {
        "id": "DbTiQUt0hzdi"
      },
      "source": [
        "# Preprocesing"
      ]
    },
    {
      "cell_type": "markdown",
      "metadata": {
        "id": "Mh2LBt_EBGia"
      },
      "source": [
        "![1_HpvpA9pBJXKxaPCl5tKnLg.jpeg](data:image/jpeg;base64,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)"
      ]
    },
    {
      "cell_type": "code",
      "metadata": {
        "id": "EdAxvOQLh2HS",
        "outputId": "f1c8ad30-a918-4b48-e63e-87c373069938",
        "colab": {
          "base_uri": "https://localhost:8080/",
          "height": 50
        }
      },
      "source": [
        "from keras.preprocessing.image import ImageDataGenerator\n",
        "\n",
        "# All images will be rescaled by 1./255\n",
        "train_datagen = ImageDataGenerator(rescale=1./255,\n",
        "                                   rotation_range=2, \n",
        "                                   horizontal_flip=True,\n",
        "                                   zoom_range=.1)\n",
        "\n",
        "test_datagen = ImageDataGenerator(rescale=1./255)\n",
        "\n",
        "train_generator = train_datagen.flow_from_directory(\n",
        "        # This is the target directory\n",
        "        train_dir,\n",
        "        batch_size = 32,\n",
        "        target_size = (32, 32),\n",
        "        # Since we use binary_crossentropy loss, we need binary labels\n",
        "        class_mode='categorical')\n",
        "\n",
        "test_generator = test_datagen.flow_from_directory(\n",
        "        test_dir,\n",
        "        target_size = (32, 32),\n",
        "        class_mode='categorical')"
      ],
      "execution_count": 14,
      "outputs": [
        {
          "output_type": "stream",
          "text": [
            "Found 45000 images belonging to 10 classes.\n",
            "Found 5000 images belonging to 10 classes.\n"
          ],
          "name": "stdout"
        }
      ]
    },
    {
      "cell_type": "code",
      "metadata": {
        "id": "Pthxi_ari_-9",
        "outputId": "e682921a-633d-4376-ea47-c27d00d3f8f3",
        "colab": {
          "base_uri": "https://localhost:8080/",
          "height": 34
        }
      },
      "source": [
        "for x in train_generator:\n",
        "  print(x[0].shape)\n",
        "  break"
      ],
      "execution_count": 15,
      "outputs": [
        {
          "output_type": "stream",
          "text": [
            "(32, 32, 32, 3)\n"
          ],
          "name": "stdout"
        }
      ]
    },
    {
      "cell_type": "markdown",
      "metadata": {
        "id": "iRkd_zS6dJK-"
      },
      "source": [
        "# Training"
      ]
    },
    {
      "cell_type": "code",
      "metadata": {
        "id": "imSJNmlj9CZj",
        "outputId": "32ea2da6-c49c-49d8-8a00-a6e945a9910c",
        "colab": {
          "base_uri": "https://localhost:8080/",
          "height": 50
        }
      },
      "source": [
        "#Using VGG16\n",
        "conv_base = VGG16(weights='imagenet',\n",
        "                  include_top=False,\n",
        "                  input_shape=(32, 32, 3),)"
      ],
      "execution_count": 16,
      "outputs": [
        {
          "output_type": "stream",
          "text": [
            "Downloading data from https://storage.googleapis.com/tensorflow/keras-applications/vgg16/vgg16_weights_tf_dim_ordering_tf_kernels_notop.h5\n",
            "58892288/58889256 [==============================] - 0s 0us/step\n"
          ],
          "name": "stdout"
        }
      ]
    },
    {
      "cell_type": "code",
      "metadata": {
        "id": "2oTEx5Mg9CeQ",
        "outputId": "fd028d76-1673-4a52-bcd6-c106a8b97457",
        "colab": {
          "base_uri": "https://localhost:8080/",
          "height": 790
        }
      },
      "source": [
        "conv_base.summary()"
      ],
      "execution_count": 17,
      "outputs": [
        {
          "output_type": "stream",
          "text": [
            "Model: \"vgg16\"\n",
            "_________________________________________________________________\n",
            "Layer (type)                 Output Shape              Param #   \n",
            "=================================================================\n",
            "input_1 (InputLayer)         [(None, 32, 32, 3)]       0         \n",
            "_________________________________________________________________\n",
            "block1_conv1 (Conv2D)        (None, 32, 32, 64)        1792      \n",
            "_________________________________________________________________\n",
            "block1_conv2 (Conv2D)        (None, 32, 32, 64)        36928     \n",
            "_________________________________________________________________\n",
            "block1_pool (MaxPooling2D)   (None, 16, 16, 64)        0         \n",
            "_________________________________________________________________\n",
            "block2_conv1 (Conv2D)        (None, 16, 16, 128)       73856     \n",
            "_________________________________________________________________\n",
            "block2_conv2 (Conv2D)        (None, 16, 16, 128)       147584    \n",
            "_________________________________________________________________\n",
            "block2_pool (MaxPooling2D)   (None, 8, 8, 128)         0         \n",
            "_________________________________________________________________\n",
            "block3_conv1 (Conv2D)        (None, 8, 8, 256)         295168    \n",
            "_________________________________________________________________\n",
            "block3_conv2 (Conv2D)        (None, 8, 8, 256)         590080    \n",
            "_________________________________________________________________\n",
            "block3_conv3 (Conv2D)        (None, 8, 8, 256)         590080    \n",
            "_________________________________________________________________\n",
            "block3_pool (MaxPooling2D)   (None, 4, 4, 256)         0         \n",
            "_________________________________________________________________\n",
            "block4_conv1 (Conv2D)        (None, 4, 4, 512)         1180160   \n",
            "_________________________________________________________________\n",
            "block4_conv2 (Conv2D)        (None, 4, 4, 512)         2359808   \n",
            "_________________________________________________________________\n",
            "block4_conv3 (Conv2D)        (None, 4, 4, 512)         2359808   \n",
            "_________________________________________________________________\n",
            "block4_pool (MaxPooling2D)   (None, 2, 2, 512)         0         \n",
            "_________________________________________________________________\n",
            "block5_conv1 (Conv2D)        (None, 2, 2, 512)         2359808   \n",
            "_________________________________________________________________\n",
            "block5_conv2 (Conv2D)        (None, 2, 2, 512)         2359808   \n",
            "_________________________________________________________________\n",
            "block5_conv3 (Conv2D)        (None, 2, 2, 512)         2359808   \n",
            "_________________________________________________________________\n",
            "block5_pool (MaxPooling2D)   (None, 1, 1, 512)         0         \n",
            "=================================================================\n",
            "Total params: 14,714,688\n",
            "Trainable params: 14,714,688\n",
            "Non-trainable params: 0\n",
            "_________________________________________________________________\n"
          ],
          "name": "stdout"
        }
      ]
    },
    {
      "cell_type": "code",
      "metadata": {
        "id": "SQJ8-UiO9Cm-"
      },
      "source": [
        "#Creating Model. Using Transfer Learning.\n",
        "model = models.Sequential()\n",
        "\n",
        "model.add(conv_base)\n",
        "model.add(Flatten())\n",
        "\n",
        "model.add(layers.Dense(130, activation='relu'))\n",
        "model.add(layers.Dropout(0.5))\n",
        "model.add(layers.Dense(160, activation='relu'))\n",
        "model.add(layers.Dense(190, activation='relu'))\n",
        "model.add(layers.Dense(220, activation='relu'))\n",
        "\n",
        "model.add(layers.Dense(10, activation='softmax'))"
      ],
      "execution_count": 18,
      "outputs": []
    },
    {
      "cell_type": "code",
      "metadata": {
        "id": "295yP8c99Cq8"
      },
      "source": [
        "# Compiling\n",
        "model.compile(optimizer=optimizers.RMSprop(lr=2e-5),\n",
        "              loss='categorical_crossentropy',\n",
        "              metrics=['acc'])"
      ],
      "execution_count": 19,
      "outputs": []
    },
    {
      "cell_type": "code",
      "metadata": {
        "id": "s8hiGRqT9Cwk",
        "outputId": "6ca40456-d88d-4d02-f3ec-b0a6d854aa5b",
        "colab": {
          "base_uri": "https://localhost:8080/",
          "height": 353
        }
      },
      "source": [
        "# Fit\n",
        "history = model.fit(train_generator,\n",
        "                    epochs= 10,    \n",
        "                    validation_data=test_generator)"
      ],
      "execution_count": 20,
      "outputs": [
        {
          "output_type": "stream",
          "text": [
            "Epoch 1/10\n",
            "1407/1407 [==============================] - 43s 31ms/step - loss: 1.4075 - acc: 0.5127 - val_loss: 0.8871 - val_acc: 0.7004\n",
            "Epoch 2/10\n",
            "1407/1407 [==============================] - 43s 31ms/step - loss: 0.8921 - acc: 0.7120 - val_loss: 0.6964 - val_acc: 0.7666\n",
            "Epoch 3/10\n",
            "1407/1407 [==============================] - 42s 30ms/step - loss: 0.7252 - acc: 0.7694 - val_loss: 0.6146 - val_acc: 0.7960\n",
            "Epoch 4/10\n",
            "1407/1407 [==============================] - 42s 30ms/step - loss: 0.6260 - acc: 0.8023 - val_loss: 0.5791 - val_acc: 0.8120\n",
            "Epoch 5/10\n",
            "1407/1407 [==============================] - 42s 30ms/step - loss: 0.5538 - acc: 0.8237 - val_loss: 0.5640 - val_acc: 0.8176\n",
            "Epoch 6/10\n",
            "1407/1407 [==============================] - 43s 30ms/step - loss: 0.4975 - acc: 0.8422 - val_loss: 0.5642 - val_acc: 0.8216\n",
            "Epoch 7/10\n",
            "1407/1407 [==============================] - 42s 30ms/step - loss: 0.4541 - acc: 0.8564 - val_loss: 0.5195 - val_acc: 0.8302\n",
            "Epoch 8/10\n",
            "1407/1407 [==============================] - 42s 30ms/step - loss: 0.4109 - acc: 0.8698 - val_loss: 0.5354 - val_acc: 0.8310\n",
            "Epoch 9/10\n",
            "1407/1407 [==============================] - 43s 30ms/step - loss: 0.3805 - acc: 0.8810 - val_loss: 0.5041 - val_acc: 0.8482\n",
            "Epoch 10/10\n",
            "1407/1407 [==============================] - 42s 30ms/step - loss: 0.3552 - acc: 0.8893 - val_loss: 0.5701 - val_acc: 0.8354\n"
          ],
          "name": "stdout"
        }
      ]
    }
  ]
}